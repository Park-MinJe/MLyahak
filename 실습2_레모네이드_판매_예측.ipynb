{
  "nbformat": 4,
  "nbformat_minor": 0,
  "metadata": {
    "colab": {
      "name": "실습2 - 레모네이드 판매 예측.ipynb",
      "provenance": [],
      "collapsed_sections": [],
      "authorship_tag": "ABX9TyNZfp5GERtX6gQWivoNOYan",
      "include_colab_link": true
    },
    "kernelspec": {
      "name": "python3",
      "display_name": "Python 3"
    }
  },
  "cells": [
    {
      "cell_type": "markdown",
      "metadata": {
        "id": "view-in-github",
        "colab_type": "text"
      },
      "source": [
        "<a href=\"https://colab.research.google.com/github/Park-MinJe/MLyahak/blob/main/%EC%8B%A4%EC%8A%B52_%EB%A0%88%EB%AA%A8%EB%84%A4%EC%9D%B4%EB%93%9C_%ED%8C%90%EB%A7%A4_%EC%98%88%EC%B8%A1.ipynb\" target=\"_parent\"><img src=\"https://colab.research.google.com/assets/colab-badge.svg\" alt=\"Open In Colab\"/></a>"
      ]
    },
    {
      "cell_type": "code",
      "metadata": {
        "id": "D9KpAtGnwMPj"
      },
      "source": [
        "# 라이브러리 사용\r\n",
        "import tensorflow as tf\r\n",
        "import pandas as pd"
      ],
      "execution_count": 2,
      "outputs": []
    },
    {
      "cell_type": "code",
      "metadata": {
        "colab": {
          "base_uri": "https://localhost:8080/",
          "height": 195
        },
        "id": "DCF7xqUBwWJy",
        "outputId": "dbc754f0-6ca4-48e8-d441-821d8dd18b15"
      },
      "source": [
        "# 데이터 준비\r\n",
        "파일경로 = 'https://raw.githubusercontent.com/blackdew/tensorflow1/master/csv/lemonade.csv'\r\n",
        "데이터 = pd.read_csv(파일경로)\r\n",
        "데이터.head()"
      ],
      "execution_count": 4,
      "outputs": [
        {
          "output_type": "execute_result",
          "data": {
            "text/html": [
              "<div>\n",
              "<style scoped>\n",
              "    .dataframe tbody tr th:only-of-type {\n",
              "        vertical-align: middle;\n",
              "    }\n",
              "\n",
              "    .dataframe tbody tr th {\n",
              "        vertical-align: top;\n",
              "    }\n",
              "\n",
              "    .dataframe thead th {\n",
              "        text-align: right;\n",
              "    }\n",
              "</style>\n",
              "<table border=\"1\" class=\"dataframe\">\n",
              "  <thead>\n",
              "    <tr style=\"text-align: right;\">\n",
              "      <th></th>\n",
              "      <th>온도</th>\n",
              "      <th>판매량</th>\n",
              "    </tr>\n",
              "  </thead>\n",
              "  <tbody>\n",
              "    <tr>\n",
              "      <th>0</th>\n",
              "      <td>20</td>\n",
              "      <td>40</td>\n",
              "    </tr>\n",
              "    <tr>\n",
              "      <th>1</th>\n",
              "      <td>21</td>\n",
              "      <td>42</td>\n",
              "    </tr>\n",
              "    <tr>\n",
              "      <th>2</th>\n",
              "      <td>22</td>\n",
              "      <td>44</td>\n",
              "    </tr>\n",
              "    <tr>\n",
              "      <th>3</th>\n",
              "      <td>23</td>\n",
              "      <td>46</td>\n",
              "    </tr>\n",
              "    <tr>\n",
              "      <th>4</th>\n",
              "      <td>24</td>\n",
              "      <td>48</td>\n",
              "    </tr>\n",
              "  </tbody>\n",
              "</table>\n",
              "</div>"
            ],
            "text/plain": [
              "   온도  판매량\n",
              "0  20   40\n",
              "1  21   42\n",
              "2  22   44\n",
              "3  23   46\n",
              "4  24   48"
            ]
          },
          "metadata": {
            "tags": []
          },
          "execution_count": 4
        }
      ]
    },
    {
      "cell_type": "code",
      "metadata": {
        "colab": {
          "base_uri": "https://localhost:8080/"
        },
        "id": "zVlw8Eq2w_Li",
        "outputId": "1ee0bb63-a7bc-46f1-fbc4-b7090c68e50a"
      },
      "source": [
        "# 종속변수, 독립변수\r\n",
        "독립 = 데이터[['온도']]\r\n",
        "종속 = 데이터[['판매량']]\r\n",
        "print(독립.shape, 종속.shape)"
      ],
      "execution_count": 5,
      "outputs": [
        {
          "output_type": "stream",
          "text": [
            "(6, 1) (6, 1)\n"
          ],
          "name": "stdout"
        }
      ]
    },
    {
      "cell_type": "code",
      "metadata": {
        "id": "hTswF0J0wW8Z"
      },
      "source": [
        "# 모델을 만듭니다.\r\n",
        "X = tf.keras.layers.Input(shape=[1])\r\n",
        "Y = tf.keras.layers.Dense(1)(X)\r\n",
        "model = tf.keras.models.Model(X, Y)\r\n",
        "model.compile(loss='mse')"
      ],
      "execution_count": 6,
      "outputs": []
    },
    {
      "cell_type": "code",
      "metadata": {
        "colab": {
          "base_uri": "https://localhost:8080/"
        },
        "id": "x15PgItMwXFM",
        "outputId": "b6711f0a-d777-4677-fa12-d3076f345217"
      },
      "source": [
        "# 모델을 학습합니다.\r\n",
        "model.fit(독립, 종속, epochs=10)\r\n",
        "# model.fit(독립, 종속, epochs=10000, verbose=0)"
      ],
      "execution_count": 22,
      "outputs": [
        {
          "output_type": "stream",
          "text": [
            "Epoch 1/10\n",
            "1/1 [==============================] - 0s 3ms/step - loss: 1.3899e-04\n",
            "Epoch 2/10\n",
            "1/1 [==============================] - 0s 3ms/step - loss: 1.3898e-04\n",
            "Epoch 3/10\n",
            "1/1 [==============================] - 0s 5ms/step - loss: 1.3890e-04\n",
            "Epoch 4/10\n",
            "1/1 [==============================] - 0s 3ms/step - loss: 1.3887e-04\n",
            "Epoch 5/10\n",
            "1/1 [==============================] - 0s 3ms/step - loss: 1.3881e-04\n",
            "Epoch 6/10\n",
            "1/1 [==============================] - 0s 3ms/step - loss: 1.3869e-04\n",
            "Epoch 7/10\n",
            "1/1 [==============================] - 0s 3ms/step - loss: 1.3858e-04\n",
            "Epoch 8/10\n",
            "1/1 [==============================] - 0s 3ms/step - loss: 1.3858e-04\n",
            "Epoch 9/10\n",
            "1/1 [==============================] - 0s 3ms/step - loss: 1.3872e-04\n",
            "Epoch 10/10\n",
            "1/1 [==============================] - 0s 3ms/step - loss: 1.3887e-04\n"
          ],
          "name": "stdout"
        },
        {
          "output_type": "execute_result",
          "data": {
            "text/plain": [
              "<tensorflow.python.keras.callbacks.History at 0x7f6daae32b00>"
            ]
          },
          "metadata": {
            "tags": []
          },
          "execution_count": 22
        }
      ]
    },
    {
      "cell_type": "code",
      "metadata": {
        "colab": {
          "base_uri": "https://localhost:8080/"
        },
        "id": "BkHjmMmQwXO3",
        "outputId": "8b46be04-4f34-4301-b2d8-d215fe6c0c60"
      },
      "source": [
        "# 모델을 이용합니다.\r\n",
        "model.predict(독립)"
      ],
      "execution_count": 24,
      "outputs": [
        {
          "output_type": "execute_result",
          "data": {
            "text/plain": [
              "array([[40.010822],\n",
              "       [42.0112  ],\n",
              "       [44.01158 ],\n",
              "       [46.011963],\n",
              "       [48.01234 ],\n",
              "       [50.012722]], dtype=float32)"
            ]
          },
          "metadata": {
            "tags": []
          },
          "execution_count": 24
        }
      ]
    },
    {
      "cell_type": "code",
      "metadata": {
        "colab": {
          "base_uri": "https://localhost:8080/"
        },
        "id": "9oRvsZwHyLfC",
        "outputId": "ff77836c-3da1-48a5-c17d-726da2847595"
      },
      "source": [
        "model.predict([[15]])"
      ],
      "execution_count": 25,
      "outputs": [
        {
          "output_type": "execute_result",
          "data": {
            "text/plain": [
              "array([[30.008923]], dtype=float32)"
            ]
          },
          "metadata": {
            "tags": []
          },
          "execution_count": 25
        }
      ]
    }
  ]
}