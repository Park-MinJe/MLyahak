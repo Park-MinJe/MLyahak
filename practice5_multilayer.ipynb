{
  "nbformat": 4,
  "nbformat_minor": 0,
  "metadata": {
    "colab": {
      "name": "practice5-multilayer.ipynb",
      "provenance": [],
      "collapsed_sections": [],
      "authorship_tag": "ABX9TyPfNg/FspUIb+ieYf0QucW9",
      "include_colab_link": true
    },
    "kernelspec": {
      "name": "python3",
      "display_name": "Python 3"
    }
  },
  "cells": [
    {
      "cell_type": "markdown",
      "metadata": {
        "id": "view-in-github",
        "colab_type": "text"
      },
      "source": [
        "<a href=\"https://colab.research.google.com/github/Park-MinJe/MLyahak/blob/main/practice5_multilayer.ipynb\" target=\"_parent\"><img src=\"https://colab.research.google.com/assets/colab-badge.svg\" alt=\"Open In Colab\"/></a>"
      ]
    },
    {
      "cell_type": "code",
      "metadata": {
        "id": "cmxy5DSxCBdg"
      },
      "source": [
        "# 라이브러리 사용\r\n",
        "import tensorflow as tf\r\n",
        "import pandas as pd"
      ],
      "execution_count": null,
      "outputs": []
    },
    {
      "cell_type": "markdown",
      "metadata": {
        "id": "P9K1yQL-DQZy"
      },
      "source": [
        "# 보스턴 집값 예측"
      ]
    },
    {
      "cell_type": "code",
      "metadata": {
        "colab": {
          "base_uri": "https://localhost:8080/"
        },
        "id": "KKEHO-rADWSi",
        "outputId": "836ff2c8-9bfe-4bf9-f397-967bb521466f"
      },
      "source": [
        "# 1. 과거의 데이터를 준비합니다.\r\n",
        "파일경로 = 'https://raw.githubusercontent.com/blackdew/tensorflow1/master/csv/boston.csv'\r\n",
        "데이터 = pd.read_csv(파일경로)\r\n",
        "\r\n",
        "# 독립, 종속 변수\r\n",
        "독립 = 데이터[['crim', 'zn', 'indus', 'chas', 'nox', 'rm', 'age', 'dis', 'rad', 'tax',\r\n",
        "       'ptratio', 'b', 'lstat']]\r\n",
        "종속 = 데이터[['medv']]\r\n",
        "print(독립.shape, 종속.shape)"
      ],
      "execution_count": 5,
      "outputs": [
        {
          "output_type": "stream",
          "text": [
            "(506, 13) (506, 1)\n"
          ],
          "name": "stdout"
        }
      ]
    },
    {
      "cell_type": "code",
      "metadata": {
        "id": "2I-jHtfBDsKF"
      },
      "source": [
        "# 2. 모델의 구조를 만듭니다.\r\n",
        "X = tf.keras.layers.Input(shape=[13])\r\n",
        "H = tf.keras.layers.Dense(10, activation='swish')(X)\r\n",
        "Y = tf.keras.layers.Dense(1)(H)\r\n",
        "model = tf.keras.models.Model(X, Y)\r\n",
        "model.compile(loss='mse')"
      ],
      "execution_count": 6,
      "outputs": []
    },
    {
      "cell_type": "code",
      "metadata": {
        "colab": {
          "base_uri": "https://localhost:8080/"
        },
        "id": "I5uTjFG2E_Ja",
        "outputId": "62c836b9-aa2f-49f3-8a72-043b17d06852"
      },
      "source": [
        "model.summary()"
      ],
      "execution_count": 9,
      "outputs": [
        {
          "output_type": "stream",
          "text": [
            "Model: \"model\"\n",
            "_________________________________________________________________\n",
            "Layer (type)                 Output Shape              Param #   \n",
            "=================================================================\n",
            "input_1 (InputLayer)         [(None, 13)]              0         \n",
            "_________________________________________________________________\n",
            "dense (Dense)                (None, 10)                140       \n",
            "_________________________________________________________________\n",
            "dense_1 (Dense)              (None, 1)                 11        \n",
            "=================================================================\n",
            "Total params: 151\n",
            "Trainable params: 151\n",
            "Non-trainable params: 0\n",
            "_________________________________________________________________\n"
          ],
          "name": "stdout"
        }
      ]
    },
    {
      "cell_type": "code",
      "metadata": {
        "colab": {
          "base_uri": "https://localhost:8080/"
        },
        "id": "CWsGRPjkDwh9",
        "outputId": "727dfcb8-3762-40a5-e3ff-de9de3945c08"
      },
      "source": [
        "# 3. 데이터로 모델을 학습(FIT)합니다.\r\n",
        "model.fit(독립, 종속, epochs=1000, verbose=0)\r\n",
        "model.fit(독립, 종속, epochs=100)"
      ],
      "execution_count": 8,
      "outputs": [
        {
          "output_type": "stream",
          "text": [
            "Epoch 1/100\n",
            "16/16 [==============================] - 0s 1ms/step - loss: 20.3701\n",
            "Epoch 2/100\n",
            "16/16 [==============================] - 0s 2ms/step - loss: 19.6141\n",
            "Epoch 3/100\n",
            "16/16 [==============================] - 0s 1ms/step - loss: 20.6011\n",
            "Epoch 4/100\n",
            "16/16 [==============================] - 0s 1ms/step - loss: 20.4040\n",
            "Epoch 5/100\n",
            "16/16 [==============================] - 0s 1ms/step - loss: 20.7358\n",
            "Epoch 6/100\n",
            "16/16 [==============================] - 0s 1ms/step - loss: 20.2004\n",
            "Epoch 7/100\n",
            "16/16 [==============================] - 0s 1ms/step - loss: 21.0151\n",
            "Epoch 8/100\n",
            "16/16 [==============================] - 0s 1ms/step - loss: 20.9002\n",
            "Epoch 9/100\n",
            "16/16 [==============================] - 0s 987us/step - loss: 19.7918\n",
            "Epoch 10/100\n",
            "16/16 [==============================] - 0s 1ms/step - loss: 20.3858\n",
            "Epoch 11/100\n",
            "16/16 [==============================] - 0s 1ms/step - loss: 20.0595\n",
            "Epoch 12/100\n",
            "16/16 [==============================] - 0s 1ms/step - loss: 20.5581\n",
            "Epoch 13/100\n",
            "16/16 [==============================] - 0s 1ms/step - loss: 19.9072\n",
            "Epoch 14/100\n",
            "16/16 [==============================] - 0s 1ms/step - loss: 20.6863\n",
            "Epoch 15/100\n",
            "16/16 [==============================] - 0s 1ms/step - loss: 20.4649\n",
            "Epoch 16/100\n",
            "16/16 [==============================] - 0s 962us/step - loss: 20.0423\n",
            "Epoch 17/100\n",
            "16/16 [==============================] - 0s 1ms/step - loss: 19.8945\n",
            "Epoch 18/100\n",
            "16/16 [==============================] - 0s 1ms/step - loss: 20.1258\n",
            "Epoch 19/100\n",
            "16/16 [==============================] - 0s 1ms/step - loss: 19.4958\n",
            "Epoch 20/100\n",
            "16/16 [==============================] - 0s 1ms/step - loss: 20.8753\n",
            "Epoch 21/100\n",
            "16/16 [==============================] - 0s 1ms/step - loss: 19.7886\n",
            "Epoch 22/100\n",
            "16/16 [==============================] - 0s 1ms/step - loss: 20.0045\n",
            "Epoch 23/100\n",
            "16/16 [==============================] - 0s 1ms/step - loss: 20.6099\n",
            "Epoch 24/100\n",
            "16/16 [==============================] - 0s 1ms/step - loss: 20.0917\n",
            "Epoch 25/100\n",
            "16/16 [==============================] - 0s 1ms/step - loss: 20.6104\n",
            "Epoch 26/100\n",
            "16/16 [==============================] - 0s 1ms/step - loss: 20.2337\n",
            "Epoch 27/100\n",
            "16/16 [==============================] - 0s 1ms/step - loss: 20.3574\n",
            "Epoch 28/100\n",
            "16/16 [==============================] - 0s 1ms/step - loss: 20.6142\n",
            "Epoch 29/100\n",
            "16/16 [==============================] - 0s 1ms/step - loss: 19.6823\n",
            "Epoch 30/100\n",
            "16/16 [==============================] - 0s 1ms/step - loss: 20.8816\n",
            "Epoch 31/100\n",
            "16/16 [==============================] - 0s 1ms/step - loss: 19.3307\n",
            "Epoch 32/100\n",
            "16/16 [==============================] - 0s 1ms/step - loss: 20.2999\n",
            "Epoch 33/100\n",
            "16/16 [==============================] - 0s 1ms/step - loss: 19.9476\n",
            "Epoch 34/100\n",
            "16/16 [==============================] - 0s 1ms/step - loss: 20.2299\n",
            "Epoch 35/100\n",
            "16/16 [==============================] - 0s 1ms/step - loss: 20.0177\n",
            "Epoch 36/100\n",
            "16/16 [==============================] - 0s 1ms/step - loss: 20.0235\n",
            "Epoch 37/100\n",
            "16/16 [==============================] - 0s 1ms/step - loss: 20.8136\n",
            "Epoch 38/100\n",
            "16/16 [==============================] - 0s 1ms/step - loss: 19.8862\n",
            "Epoch 39/100\n",
            "16/16 [==============================] - 0s 1ms/step - loss: 19.4534\n",
            "Epoch 40/100\n",
            "16/16 [==============================] - 0s 1ms/step - loss: 20.3888\n",
            "Epoch 41/100\n",
            "16/16 [==============================] - 0s 2ms/step - loss: 20.5859\n",
            "Epoch 42/100\n",
            "16/16 [==============================] - 0s 1ms/step - loss: 20.1392\n",
            "Epoch 43/100\n",
            "16/16 [==============================] - 0s 1ms/step - loss: 19.8721\n",
            "Epoch 44/100\n",
            "16/16 [==============================] - 0s 1ms/step - loss: 20.4148\n",
            "Epoch 45/100\n",
            "16/16 [==============================] - 0s 1ms/step - loss: 19.7796\n",
            "Epoch 46/100\n",
            "16/16 [==============================] - 0s 1ms/step - loss: 19.5284\n",
            "Epoch 47/100\n",
            "16/16 [==============================] - 0s 1ms/step - loss: 20.5934\n",
            "Epoch 48/100\n",
            "16/16 [==============================] - 0s 2ms/step - loss: 20.1676\n",
            "Epoch 49/100\n",
            "16/16 [==============================] - 0s 2ms/step - loss: 19.9730\n",
            "Epoch 50/100\n",
            "16/16 [==============================] - 0s 1ms/step - loss: 20.4849\n",
            "Epoch 51/100\n",
            "16/16 [==============================] - 0s 1ms/step - loss: 20.4157\n",
            "Epoch 52/100\n",
            "16/16 [==============================] - 0s 1ms/step - loss: 19.7608\n",
            "Epoch 53/100\n",
            "16/16 [==============================] - 0s 1ms/step - loss: 20.0332\n",
            "Epoch 54/100\n",
            "16/16 [==============================] - 0s 1ms/step - loss: 20.4454\n",
            "Epoch 55/100\n",
            "16/16 [==============================] - 0s 1ms/step - loss: 20.2337\n",
            "Epoch 56/100\n",
            "16/16 [==============================] - 0s 1ms/step - loss: 19.8602\n",
            "Epoch 57/100\n",
            "16/16 [==============================] - 0s 1ms/step - loss: 20.2265\n",
            "Epoch 58/100\n",
            "16/16 [==============================] - 0s 1ms/step - loss: 19.5980\n",
            "Epoch 59/100\n",
            "16/16 [==============================] - 0s 1ms/step - loss: 19.8762\n",
            "Epoch 60/100\n",
            "16/16 [==============================] - 0s 1ms/step - loss: 19.9667\n",
            "Epoch 61/100\n",
            "16/16 [==============================] - 0s 1ms/step - loss: 19.7981\n",
            "Epoch 62/100\n",
            "16/16 [==============================] - 0s 1ms/step - loss: 20.2004\n",
            "Epoch 63/100\n",
            "16/16 [==============================] - 0s 1ms/step - loss: 20.3954\n",
            "Epoch 64/100\n",
            "16/16 [==============================] - 0s 1ms/step - loss: 19.8411\n",
            "Epoch 65/100\n",
            "16/16 [==============================] - 0s 1ms/step - loss: 19.7528\n",
            "Epoch 66/100\n",
            "16/16 [==============================] - 0s 1ms/step - loss: 20.4420\n",
            "Epoch 67/100\n",
            "16/16 [==============================] - 0s 1ms/step - loss: 19.9148\n",
            "Epoch 68/100\n",
            "16/16 [==============================] - 0s 1ms/step - loss: 19.5639\n",
            "Epoch 69/100\n",
            "16/16 [==============================] - 0s 1ms/step - loss: 20.1302\n",
            "Epoch 70/100\n",
            "16/16 [==============================] - 0s 1ms/step - loss: 19.6856\n",
            "Epoch 71/100\n",
            "16/16 [==============================] - 0s 1ms/step - loss: 20.0044\n",
            "Epoch 72/100\n",
            "16/16 [==============================] - 0s 1ms/step - loss: 20.1757\n",
            "Epoch 73/100\n",
            "16/16 [==============================] - 0s 1ms/step - loss: 19.9229\n",
            "Epoch 74/100\n",
            "16/16 [==============================] - 0s 1ms/step - loss: 20.2399\n",
            "Epoch 75/100\n",
            "16/16 [==============================] - 0s 1ms/step - loss: 19.8404\n",
            "Epoch 76/100\n",
            "16/16 [==============================] - 0s 1ms/step - loss: 19.6176\n",
            "Epoch 77/100\n",
            "16/16 [==============================] - 0s 1ms/step - loss: 19.8873\n",
            "Epoch 78/100\n",
            "16/16 [==============================] - 0s 1ms/step - loss: 19.6552\n",
            "Epoch 79/100\n",
            "16/16 [==============================] - 0s 1ms/step - loss: 19.5923\n",
            "Epoch 80/100\n",
            "16/16 [==============================] - 0s 1ms/step - loss: 20.0032\n",
            "Epoch 81/100\n",
            "16/16 [==============================] - 0s 1ms/step - loss: 19.9316\n",
            "Epoch 82/100\n",
            "16/16 [==============================] - 0s 1ms/step - loss: 19.8801\n",
            "Epoch 83/100\n",
            "16/16 [==============================] - 0s 1ms/step - loss: 19.6640\n",
            "Epoch 84/100\n",
            "16/16 [==============================] - 0s 1ms/step - loss: 19.8683\n",
            "Epoch 85/100\n",
            "16/16 [==============================] - 0s 1ms/step - loss: 20.1027\n",
            "Epoch 86/100\n",
            "16/16 [==============================] - 0s 1ms/step - loss: 20.5047\n",
            "Epoch 87/100\n",
            "16/16 [==============================] - 0s 1ms/step - loss: 19.8879\n",
            "Epoch 88/100\n",
            "16/16 [==============================] - 0s 1ms/step - loss: 19.9398\n",
            "Epoch 89/100\n",
            "16/16 [==============================] - 0s 1ms/step - loss: 20.1216\n",
            "Epoch 90/100\n",
            "16/16 [==============================] - 0s 1ms/step - loss: 19.4573\n",
            "Epoch 91/100\n",
            "16/16 [==============================] - 0s 1ms/step - loss: 19.9148\n",
            "Epoch 92/100\n",
            "16/16 [==============================] - 0s 1ms/step - loss: 20.3035\n",
            "Epoch 93/100\n",
            "16/16 [==============================] - 0s 1ms/step - loss: 19.3811\n",
            "Epoch 94/100\n",
            "16/16 [==============================] - 0s 1ms/step - loss: 20.1402\n",
            "Epoch 95/100\n",
            "16/16 [==============================] - 0s 1ms/step - loss: 19.8015\n",
            "Epoch 96/100\n",
            "16/16 [==============================] - 0s 1ms/step - loss: 20.2708\n",
            "Epoch 97/100\n",
            "16/16 [==============================] - 0s 1ms/step - loss: 20.0863\n",
            "Epoch 98/100\n",
            "16/16 [==============================] - 0s 1ms/step - loss: 19.2983\n",
            "Epoch 99/100\n",
            "16/16 [==============================] - 0s 1ms/step - loss: 19.8260\n",
            "Epoch 100/100\n",
            "16/16 [==============================] - 0s 1ms/step - loss: 19.6420\n"
          ],
          "name": "stdout"
        },
        {
          "output_type": "execute_result",
          "data": {
            "text/plain": [
              "<tensorflow.python.keras.callbacks.History at 0x7fbb9f8b1898>"
            ]
          },
          "metadata": {
            "tags": []
          },
          "execution_count": 8
        }
      ]
    },
    {
      "cell_type": "code",
      "metadata": {
        "colab": {
          "base_uri": "https://localhost:8080/"
        },
        "id": "TDdVYjC7D0ct",
        "outputId": "01f3ac4f-abef-442e-f946-a35e3c981d4d"
      },
      "source": [
        "# 4. 모델을 이용합니다.\r\n",
        "print(model.predict(독립[:5]))\r\n",
        "print(종속[:5])"
      ],
      "execution_count": 11,
      "outputs": [
        {
          "output_type": "stream",
          "text": [
            "[[27.523571]\n",
            " [22.824608]\n",
            " [27.559256]\n",
            " [29.080263]\n",
            " [28.676535]]\n",
            "   medv\n",
            "0  24.0\n",
            "1  21.6\n",
            "2  34.7\n",
            "3  33.4\n",
            "4  36.2\n"
          ],
          "name": "stdout"
        }
      ]
    },
    {
      "cell_type": "markdown",
      "metadata": {
        "id": "-GB1TnbgD7DI"
      },
      "source": [
        "# 아이리스 품종 분류"
      ]
    },
    {
      "cell_type": "code",
      "metadata": {
        "colab": {
          "base_uri": "https://localhost:8080/"
        },
        "id": "7ENCY5VZEAGm",
        "outputId": "a958dffc-ce0c-4482-af86-6be9a0326e55"
      },
      "source": [
        "# 1. 과거의 데이터를 준비합니다.\r\n",
        "파일경로 = 'https://raw.githubusercontent.com/blackdew/tensorflow1/master/csv/iris.csv'\r\n",
        "아이리스 = pd.read_csv(파일경로)\r\n",
        "\r\n",
        "# 원핫인코딩\r\n",
        "인코딩 = pd.get_dummies(아이리스)\r\n",
        "인코딩.head()\r\n",
        "\r\n",
        "# 독립변수, 종속변수\r\n",
        "독립 = 인코딩[['꽃잎길이', '꽃잎폭', '꽃받침길이', '꽃받침폭']]\r\n",
        "종속 = 인코딩[['품종_setosa', '품종_versicolor', '품종_virginica']]\r\n",
        "print(독립.shape, 종속.shape)"
      ],
      "execution_count": 15,
      "outputs": [
        {
          "output_type": "stream",
          "text": [
            "(150, 4) (150, 3)\n"
          ],
          "name": "stdout"
        }
      ]
    },
    {
      "cell_type": "code",
      "metadata": {
        "id": "legFaI_XEI-F"
      },
      "source": [
        "# 2. 모델의 구조를 만듭니다.\r\n",
        "X = tf.keras.layers.Input(shape=[4])\r\n",
        "H = tf.keras.layers.Dense(8, activation='swish')(X)\r\n",
        "H = tf.keras.layers.Dense(8, activation='swish')(H)\r\n",
        "H = tf.keras.layers.Dense(8, activation='swish')(H)\r\n",
        "Y = tf.keras.layers.Dense(3, activation='softmax')(H)\r\n",
        "model = tf.keras.models.Model(X, Y)\r\n",
        "model.compile(loss='categorical_crossentropy', \r\n",
        "              metrics='accuracy')"
      ],
      "execution_count": 16,
      "outputs": []
    },
    {
      "cell_type": "code",
      "metadata": {
        "id": "dJCZQpIsEMK8"
      },
      "source": [
        "# 3. 데이터로 모델을 학습(FIT)합니다.\r\n",
        "model.fit(독립, 종속, epochs=1000)"
      ],
      "execution_count": null,
      "outputs": []
    },
    {
      "cell_type": "code",
      "metadata": {
        "colab": {
          "base_uri": "https://localhost:8080/"
        },
        "id": "xoFdP4t3EO9G",
        "outputId": "a89c2977-19f9-4888-e44f-095d17401517"
      },
      "source": [
        "# 모델을 이용합니다.\r\n",
        "print(model.predict(독립[47:57]))\r\n",
        "print(종속[47:57])"
      ],
      "execution_count": 19,
      "outputs": [
        {
          "output_type": "stream",
          "text": [
            "[[9.9999738e-01 7.2431374e-07 1.9236209e-06]\n",
            " [9.9999940e-01 9.4868057e-08 4.5965473e-07]\n",
            " [9.9999881e-01 2.2631750e-07 9.1331907e-07]\n",
            " [4.6300611e-12 9.9997950e-01 2.0494181e-05]\n",
            " [8.0655925e-12 9.9989808e-01 1.0196697e-04]\n",
            " [1.0435039e-12 9.9933559e-01 6.6442834e-04]\n",
            " [2.5711583e-10 9.9873894e-01 1.2610412e-03]\n",
            " [6.3670796e-12 9.9838412e-01 1.6159159e-03]\n",
            " [2.3083183e-11 9.9784875e-01 2.1513137e-03]\n",
            " [3.7952315e-12 9.9835891e-01 1.6411250e-03]]\n",
            "    품종_setosa  품종_versicolor  품종_virginica\n",
            "47          1              0             0\n",
            "48          1              0             0\n",
            "49          1              0             0\n",
            "50          0              1             0\n",
            "51          0              1             0\n",
            "52          0              1             0\n",
            "53          0              1             0\n",
            "54          0              1             0\n",
            "55          0              1             0\n",
            "56          0              1             0\n"
          ],
          "name": "stdout"
        }
      ]
    }
  ]
}